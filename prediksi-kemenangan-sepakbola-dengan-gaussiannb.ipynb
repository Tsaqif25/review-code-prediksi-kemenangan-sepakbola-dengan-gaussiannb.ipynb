{
 "cells": [
  {
   "cell_type": "code",
   "execution_count": 1,
   "metadata": {
    "_cell_guid": "b1076dfc-b9ad-4769-8c92-a6c4dae69d19",
    "_uuid": "8f2839f25d086af736a60e9eeb907d3b93b6e0e5",
    "execution": {
     "iopub.execute_input": "2020-11-26T13:19:37.614040Z",
     "iopub.status.busy": "2020-11-26T13:19:37.613171Z",
     "iopub.status.idle": "2020-11-26T13:19:37.621228Z",
     "shell.execute_reply": "2020-11-26T13:19:37.620453Z"
    },
    "papermill": {
     "duration": 0.044813,
     "end_time": "2020-11-26T13:19:37.621428",
     "exception": false,
     "start_time": "2020-11-26T13:19:37.576615",
     "status": "completed"
    },
    "tags": []
   },
   "outputs": [
    {
     "name": "stdout",
     "output_type": "stream",
     "text": [
      "/kaggle/input/prediksi-kemenangan-sepakbola/dataset.csv\n"
     ]
    }
   ],
   "source": [
    "# This Python 3 environment comes with many helpful analytics libraries installed\n",
    "# It is defined by the kaggle/python Docker image: https://github.com/kaggle/docker-python\n",
    "# For example, here's several helpful packages to load\n",
    "\n",
    "import numpy as np # linear algebra\n",
    "import pandas as pd # data processing, CSV file I/O (e.g. pd.read_csv)\n",
    "\n",
    "# Input data files are available in the read-only \"../input/\" directory\n",
    "# For example, running this (by clicking run or pressing Shift+Enter) will list all files under the input directory\n",
    "\n",
    "import os\n",
    "for dirname, _, filenames in os.walk('/kaggle/input'):\n",
    "    for filename in filenames:\n",
    "        print(os.path.join(dirname, filename))\n",
    "\n",
    "# You can write up to 20GB to the current directory (/kaggle/working/) that gets preserved as output when you create a version using \"Save & Run All\" \n",
    "# You can also write temporary files to /kaggle/temp/, but they won't be saved outside of the current session"
   ]
  },
  {
   "cell_type": "markdown",
   "metadata": {
    "papermill": {
     "duration": 0.027535,
     "end_time": "2020-11-26T13:19:37.677427",
     "exception": false,
     "start_time": "2020-11-26T13:19:37.649892",
     "status": "completed"
    },
    "tags": []
   },
   "source": [
    "# PAK TATANG FC****\n",
    "\n",
    "pak tatang adalah presiden club dari tatang fc. sedang mencari pelatih dan pemain baru untuk club nya. kita di beri data seperti dibawah. kita disuruh mencari tipe pelatih dan pemain, agar pak tatang bisa menjadikan tatang fc, menjadi club terkuat di galaxy bima sakti. oke lebay maaf."
   ]
  },
  {
   "cell_type": "code",
   "execution_count": 2,
   "metadata": {
    "execution": {
     "iopub.execute_input": "2020-11-26T13:19:37.744592Z",
     "iopub.status.busy": "2020-11-26T13:19:37.743599Z",
     "iopub.status.idle": "2020-11-26T13:19:37.755469Z",
     "shell.execute_reply": "2020-11-26T13:19:37.754648Z"
    },
    "papermill": {
     "duration": 0.045834,
     "end_time": "2020-11-26T13:19:37.755601",
     "exception": false,
     "start_time": "2020-11-26T13:19:37.709767",
     "status": "completed"
    },
    "tags": []
   },
   "outputs": [],
   "source": [
    "dataset = pd.read_csv(\"/kaggle/input/prediksi-kemenangan-sepakbola/dataset.csv\")"
   ]
  },
  {
   "cell_type": "code",
   "execution_count": 3,
   "metadata": {
    "execution": {
     "iopub.execute_input": "2020-11-26T13:19:37.831996Z",
     "iopub.status.busy": "2020-11-26T13:19:37.831232Z",
     "iopub.status.idle": "2020-11-26T13:19:37.842440Z",
     "shell.execute_reply": "2020-11-26T13:19:37.842996Z"
    },
    "papermill": {
     "duration": 0.059588,
     "end_time": "2020-11-26T13:19:37.843191",
     "exception": false,
     "start_time": "2020-11-26T13:19:37.783603",
     "status": "completed"
    },
    "tags": []
   },
   "outputs": [
    {
     "data": {
      "text/html": [
       "<div>\n",
       "<style scoped>\n",
       "    .dataframe tbody tr th:only-of-type {\n",
       "        vertical-align: middle;\n",
       "    }\n",
       "\n",
       "    .dataframe tbody tr th {\n",
       "        vertical-align: top;\n",
       "    }\n",
       "\n",
       "    .dataframe thead th {\n",
       "        text-align: right;\n",
       "    }\n",
       "</style>\n",
       "<table border=\"1\" class=\"dataframe\">\n",
       "  <thead>\n",
       "    <tr style=\"text-align: right;\">\n",
       "      <th></th>\n",
       "      <th>No</th>\n",
       "      <th>Pelatih</th>\n",
       "      <th>Kandang Sendiri</th>\n",
       "      <th>Latihan</th>\n",
       "      <th>Stamina</th>\n",
       "      <th>Mental</th>\n",
       "      <th>Menang</th>\n",
       "    </tr>\n",
       "  </thead>\n",
       "  <tbody>\n",
       "    <tr>\n",
       "      <th>0</th>\n",
       "      <td>1</td>\n",
       "      <td>Pengetian</td>\n",
       "      <td>Ya</td>\n",
       "      <td>Rutin</td>\n",
       "      <td>Kuat</td>\n",
       "      <td>PD</td>\n",
       "      <td>Ya</td>\n",
       "    </tr>\n",
       "    <tr>\n",
       "      <th>1</th>\n",
       "      <td>2</td>\n",
       "      <td>Pengetian</td>\n",
       "      <td>Ya</td>\n",
       "      <td>Rutin</td>\n",
       "      <td>Kuat</td>\n",
       "      <td>Gerogi</td>\n",
       "      <td>Tidak</td>\n",
       "    </tr>\n",
       "    <tr>\n",
       "      <th>2</th>\n",
       "      <td>3</td>\n",
       "      <td>Pengetian</td>\n",
       "      <td>Tidak</td>\n",
       "      <td>Jarang</td>\n",
       "      <td>Lemah</td>\n",
       "      <td>Gerogi</td>\n",
       "      <td>Tidak</td>\n",
       "    </tr>\n",
       "    <tr>\n",
       "      <th>3</th>\n",
       "      <td>4</td>\n",
       "      <td>Menekan</td>\n",
       "      <td>Ya</td>\n",
       "      <td>Rutin</td>\n",
       "      <td>Kuat</td>\n",
       "      <td>PD</td>\n",
       "      <td>Ya</td>\n",
       "    </tr>\n",
       "    <tr>\n",
       "      <th>4</th>\n",
       "      <td>5</td>\n",
       "      <td>Menekan</td>\n",
       "      <td>Tidak</td>\n",
       "      <td>Rutin</td>\n",
       "      <td>Lemah</td>\n",
       "      <td>Gerogi</td>\n",
       "      <td>Tidak</td>\n",
       "    </tr>\n",
       "  </tbody>\n",
       "</table>\n",
       "</div>"
      ],
      "text/plain": [
       "   No    Pelatih Kandang Sendiri Latihan Stamina  Mental Menang\n",
       "0   1  Pengetian              Ya   Rutin    Kuat      PD     Ya\n",
       "1   2  Pengetian              Ya   Rutin    Kuat  Gerogi  Tidak\n",
       "2   3  Pengetian           Tidak  Jarang   Lemah  Gerogi  Tidak\n",
       "3   4    Menekan              Ya   Rutin    Kuat      PD     Ya\n",
       "4   5    Menekan           Tidak   Rutin   Lemah  Gerogi  Tidak"
      ]
     },
     "execution_count": 3,
     "metadata": {},
     "output_type": "execute_result"
    }
   ],
   "source": [
    "dataset.head()"
   ]
  },
  {
   "cell_type": "code",
   "execution_count": 4,
   "metadata": {
    "execution": {
     "iopub.execute_input": "2020-11-26T13:19:37.906916Z",
     "iopub.status.busy": "2020-11-26T13:19:37.905984Z",
     "iopub.status.idle": "2020-11-26T13:19:37.910467Z",
     "shell.execute_reply": "2020-11-26T13:19:37.909868Z"
    },
    "papermill": {
     "duration": 0.038162,
     "end_time": "2020-11-26T13:19:37.910592",
     "exception": false,
     "start_time": "2020-11-26T13:19:37.872430",
     "status": "completed"
    },
    "tags": []
   },
   "outputs": [
    {
     "data": {
      "text/plain": [
       "(60, 7)"
      ]
     },
     "execution_count": 4,
     "metadata": {},
     "output_type": "execute_result"
    }
   ],
   "source": [
    "dataset.shape"
   ]
  },
  {
   "cell_type": "code",
   "execution_count": 5,
   "metadata": {
    "execution": {
     "iopub.execute_input": "2020-11-26T13:19:37.990716Z",
     "iopub.status.busy": "2020-11-26T13:19:37.989919Z",
     "iopub.status.idle": "2020-11-26T13:19:37.994223Z",
     "shell.execute_reply": "2020-11-26T13:19:37.995007Z"
    },
    "papermill": {
     "duration": 0.05512,
     "end_time": "2020-11-26T13:19:37.995217",
     "exception": false,
     "start_time": "2020-11-26T13:19:37.940097",
     "status": "completed"
    },
    "tags": []
   },
   "outputs": [
    {
     "name": "stdout",
     "output_type": "stream",
     "text": [
      "<class 'pandas.core.frame.DataFrame'>\n",
      "RangeIndex: 60 entries, 0 to 59\n",
      "Data columns (total 7 columns):\n",
      " #   Column           Non-Null Count  Dtype \n",
      "---  ------           --------------  ----- \n",
      " 0   No               60 non-null     int64 \n",
      " 1   Pelatih          60 non-null     object\n",
      " 2   Kandang Sendiri  60 non-null     object\n",
      " 3   Latihan          60 non-null     object\n",
      " 4   Stamina          60 non-null     object\n",
      " 5   Mental           60 non-null     object\n",
      " 6   Menang           60 non-null     object\n",
      "dtypes: int64(1), object(6)\n",
      "memory usage: 3.4+ KB\n"
     ]
    }
   ],
   "source": [
    "dataset.info()"
   ]
  },
  {
   "cell_type": "code",
   "execution_count": 6,
   "metadata": {
    "execution": {
     "iopub.execute_input": "2020-11-26T13:19:38.064393Z",
     "iopub.status.busy": "2020-11-26T13:19:38.063361Z",
     "iopub.status.idle": "2020-11-26T13:19:38.068678Z",
     "shell.execute_reply": "2020-11-26T13:19:38.067994Z"
    },
    "papermill": {
     "duration": 0.042934,
     "end_time": "2020-11-26T13:19:38.068811",
     "exception": false,
     "start_time": "2020-11-26T13:19:38.025877",
     "status": "completed"
    },
    "tags": []
   },
   "outputs": [
    {
     "data": {
      "text/plain": [
       "False"
      ]
     },
     "execution_count": 6,
     "metadata": {},
     "output_type": "execute_result"
    }
   ],
   "source": [
    "dataset.isnull().values.any()"
   ]
  },
  {
   "cell_type": "code",
   "execution_count": 7,
   "metadata": {
    "execution": {
     "iopub.execute_input": "2020-11-26T13:19:38.138785Z",
     "iopub.status.busy": "2020-11-26T13:19:38.137732Z",
     "iopub.status.idle": "2020-11-26T13:19:38.142663Z",
     "shell.execute_reply": "2020-11-26T13:19:38.141972Z"
    },
    "papermill": {
     "duration": 0.043314,
     "end_time": "2020-11-26T13:19:38.142792",
     "exception": false,
     "start_time": "2020-11-26T13:19:38.099478",
     "status": "completed"
    },
    "tags": []
   },
   "outputs": [
    {
     "data": {
      "text/plain": [
       "Pengetian    37\n",
       "Menekan      23\n",
       "Name: Pelatih, dtype: int64"
      ]
     },
     "execution_count": 7,
     "metadata": {},
     "output_type": "execute_result"
    }
   ],
   "source": [
    "dataset[\"Pelatih\"].value_counts()"
   ]
  },
  {
   "cell_type": "markdown",
   "metadata": {
    "papermill": {
     "duration": 0.030895,
     "end_time": "2020-11-26T13:19:38.205489",
     "exception": false,
     "start_time": "2020-11-26T13:19:38.174594",
     "status": "completed"
    },
    "tags": []
   },
   "source": [
    "# **Kita akan lihat persentase kemenangan pelatih dari tipe melatih**\n",
    "Kalo anak MOBA bilang semua hero itu hebat, tergantung pilot. begitu juga club tatang fc, memerlukan pilot atau pelatih yang handal untuk menahkodai tatang fc"
   ]
  },
  {
   "cell_type": "code",
   "execution_count": 8,
   "metadata": {
    "execution": {
     "iopub.execute_input": "2020-11-26T13:19:38.276703Z",
     "iopub.status.busy": "2020-11-26T13:19:38.275888Z",
     "iopub.status.idle": "2020-11-26T13:19:38.278378Z",
     "shell.execute_reply": "2020-11-26T13:19:38.278944Z"
    },
    "papermill": {
     "duration": 0.040557,
     "end_time": "2020-11-26T13:19:38.279125",
     "exception": false,
     "start_time": "2020-11-26T13:19:38.238568",
     "status": "completed"
    },
    "tags": []
   },
   "outputs": [],
   "source": [
    "tipe_pelatih =  dataset.loc[dataset['Menang'] == \"Ya\", 'Pelatih']"
   ]
  },
  {
   "cell_type": "code",
   "execution_count": 9,
   "metadata": {
    "execution": {
     "iopub.execute_input": "2020-11-26T13:19:38.350768Z",
     "iopub.status.busy": "2020-11-26T13:19:38.349951Z",
     "iopub.status.idle": "2020-11-26T13:19:38.354125Z",
     "shell.execute_reply": "2020-11-26T13:19:38.353391Z"
    },
    "papermill": {
     "duration": 0.04306,
     "end_time": "2020-11-26T13:19:38.354247",
     "exception": false,
     "start_time": "2020-11-26T13:19:38.311187",
     "status": "completed"
    },
    "tags": []
   },
   "outputs": [
    {
     "data": {
      "text/plain": [
       "Pengetian    26\n",
       "Menekan       9\n",
       "Name: Pelatih, dtype: int64"
      ]
     },
     "execution_count": 9,
     "metadata": {},
     "output_type": "execute_result"
    }
   ],
   "source": [
    "tipe_pelatih.value_counts()"
   ]
  },
  {
   "cell_type": "markdown",
   "metadata": {
    "papermill": {
     "duration": 0.031464,
     "end_time": "2020-11-26T13:19:38.417773",
     "exception": false,
     "start_time": "2020-11-26T13:19:38.386309",
     "status": "completed"
    },
    "tags": []
   },
   "source": [
    "hitung persentase kemenangan dari total laga yang menghasilkan kemenangan"
   ]
  },
  {
   "cell_type": "code",
   "execution_count": 10,
   "metadata": {
    "execution": {
     "iopub.execute_input": "2020-11-26T13:19:38.491035Z",
     "iopub.status.busy": "2020-11-26T13:19:38.490047Z",
     "iopub.status.idle": "2020-11-26T13:19:38.493534Z",
     "shell.execute_reply": "2020-11-26T13:19:38.492786Z"
    },
    "papermill": {
     "duration": 0.042821,
     "end_time": "2020-11-26T13:19:38.493661",
     "exception": false,
     "start_time": "2020-11-26T13:19:38.450840",
     "status": "completed"
    },
    "tags": []
   },
   "outputs": [],
   "source": [
    "pengertian = dataset.loc[dataset['Pelatih'] == \"Pengetian\"]\n",
    "Menekan = dataset.loc[dataset['Pelatih'] == \"Menekan\"]"
   ]
  },
  {
   "cell_type": "code",
   "execution_count": 11,
   "metadata": {
    "execution": {
     "iopub.execute_input": "2020-11-26T13:19:38.569309Z",
     "iopub.status.busy": "2020-11-26T13:19:38.568311Z",
     "iopub.status.idle": "2020-11-26T13:19:38.571267Z",
     "shell.execute_reply": "2020-11-26T13:19:38.570634Z"
    },
    "papermill": {
     "duration": 0.043752,
     "end_time": "2020-11-26T13:19:38.571403",
     "exception": false,
     "start_time": "2020-11-26T13:19:38.527651",
     "status": "completed"
    },
    "tags": []
   },
   "outputs": [],
   "source": [
    "p_menang = len(pengertian.loc[pengertian[\"Menang\"] == \"Ya\"])/len(pengertian[\"Menang\"])\n",
    "m_menang = len(Menekan.loc[Menekan[\"Menang\"] == \"Ya\"])/len(Menekan[\"Menang\"])"
   ]
  },
  {
   "cell_type": "code",
   "execution_count": 12,
   "metadata": {
    "execution": {
     "iopub.execute_input": "2020-11-26T13:19:38.650911Z",
     "iopub.status.busy": "2020-11-26T13:19:38.646040Z",
     "iopub.status.idle": "2020-11-26T13:19:38.655328Z",
     "shell.execute_reply": "2020-11-26T13:19:38.654218Z"
    },
    "papermill": {
     "duration": 0.051936,
     "end_time": "2020-11-26T13:19:38.655501",
     "exception": false,
     "start_time": "2020-11-26T13:19:38.603565",
     "status": "completed"
    },
    "tags": []
   },
   "outputs": [
    {
     "name": "stdout",
     "output_type": "stream",
     "text": [
      "Tipe Pengertian : Match  37 \n",
      "Menang :  26 \n",
      "Kalah :  11\n",
      "Tipe Menekan : Match  23 \n",
      "Menang :  9 \n",
      "Kalah :  14\n",
      "Persentase Tipe Pengertian: 70.27 %\n",
      "Persentase Tipe Menekan: 39.13 %\n"
     ]
    }
   ],
   "source": [
    "print(\"Tipe Pengertian : Match \",len(pengertian[\"Menang\"]),\"\\nMenang : \",len(pengertian.loc[pengertian[\"Menang\"] == \"Ya\"]),\"\\nKalah : \",len(pengertian.loc[pengertian[\"Menang\"] == \"Tidak\"]))\n",
    "print(\"Tipe Menekan : Match \",len(Menekan[\"Menang\"]),\"\\nMenang : \",len(Menekan.loc[Menekan[\"Menang\"] == \"Ya\"]),\"\\nKalah : \",len(Menekan.loc[Menekan[\"Menang\"] == \"Tidak\"]))\n",
    "print(\"Persentase Tipe Pengertian: {0:.2f} %\".format(100 * p_menang))  \n",
    "print(\"Persentase Tipe Menekan: {0:.2f} %\".format(100 * m_menang))  "
   ]
  },
  {
   "cell_type": "markdown",
   "metadata": {
    "papermill": {
     "duration": 0.032898,
     "end_time": "2020-11-26T13:19:38.724093",
     "exception": false,
     "start_time": "2020-11-26T13:19:38.691195",
     "status": "completed"
    },
    "tags": []
   },
   "source": [
    "Dari data diatas, terlihat Pelatih Tipe Pengertian lebih unggul, mungkin dikarenakan faktor match yang lebih banyak dimainkan oleh pelatih pengertian dibandingkan pelatih tipe menekan."
   ]
  },
  {
   "cell_type": "markdown",
   "metadata": {
    "papermill": {
     "duration": 0.03259,
     "end_time": "2020-11-26T13:19:38.790254",
     "exception": false,
     "start_time": "2020-11-26T13:19:38.757664",
     "status": "completed"
    },
    "tags": []
   },
   "source": [
    "**Dari pelatih sudah, sekarang ke pemain,Kita akan prediksi kemenangan**"
   ]
  },
  {
   "cell_type": "markdown",
   "metadata": {
    "papermill": {
     "duration": 0.032252,
     "end_time": "2020-11-26T13:19:38.855237",
     "exception": false,
     "start_time": "2020-11-26T13:19:38.822985",
     "status": "completed"
    },
    "tags": []
   },
   "source": [
    "Ubah datanya menjadi int dulu, biar gampang"
   ]
  },
  {
   "cell_type": "code",
   "execution_count": 13,
   "metadata": {
    "execution": {
     "iopub.execute_input": "2020-11-26T13:19:38.936502Z",
     "iopub.status.busy": "2020-11-26T13:19:38.930210Z",
     "iopub.status.idle": "2020-11-26T13:19:38.945747Z",
     "shell.execute_reply": "2020-11-26T13:19:38.944875Z"
    },
    "papermill": {
     "duration": 0.057664,
     "end_time": "2020-11-26T13:19:38.945874",
     "exception": false,
     "start_time": "2020-11-26T13:19:38.888210",
     "status": "completed"
    },
    "tags": []
   },
   "outputs": [],
   "source": [
    "pelatih = {\"Pengetian\" : 0, \"Menekan\" : 1}\n",
    "main = {\"Ya\" : 0, \"Tidak\" : 1}\n",
    "latihan = {\"Rutin\" : 0, \"Jarang\" : 1}\n",
    "stamina = {\"Kuat\" : 0, \"Lemah\" : 1}\n",
    "mental = {\"PD\" : 0, \"Gerogi\" : 1}\n",
    "menang = {\"Ya\" : 0, \"Tidak\" : 1}\n",
    "dataset[\"Pelatih\"] = dataset[\"Pelatih\"].map(pelatih)\n",
    "dataset[\"Kandang Sendiri\"] = dataset[\"Kandang Sendiri\"].map(main)\n",
    "dataset[\"Latihan\"] = dataset[\"Latihan\"].map(latihan)\n",
    "dataset[\"Stamina\"] = dataset[\"Stamina\"].map(stamina)\n",
    "dataset[\"Mental\"] = dataset[\"Mental\"].map(mental)\n",
    "dataset[\"Menang\"] = dataset[\"Menang\"].map(menang)"
   ]
  },
  {
   "cell_type": "code",
   "execution_count": 14,
   "metadata": {
    "execution": {
     "iopub.execute_input": "2020-11-26T13:19:39.025551Z",
     "iopub.status.busy": "2020-11-26T13:19:39.024416Z",
     "iopub.status.idle": "2020-11-26T13:19:39.029135Z",
     "shell.execute_reply": "2020-11-26T13:19:39.028379Z"
    },
    "papermill": {
     "duration": 0.050472,
     "end_time": "2020-11-26T13:19:39.029273",
     "exception": false,
     "start_time": "2020-11-26T13:19:38.978801",
     "status": "completed"
    },
    "tags": []
   },
   "outputs": [
    {
     "data": {
      "text/html": [
       "<div>\n",
       "<style scoped>\n",
       "    .dataframe tbody tr th:only-of-type {\n",
       "        vertical-align: middle;\n",
       "    }\n",
       "\n",
       "    .dataframe tbody tr th {\n",
       "        vertical-align: top;\n",
       "    }\n",
       "\n",
       "    .dataframe thead th {\n",
       "        text-align: right;\n",
       "    }\n",
       "</style>\n",
       "<table border=\"1\" class=\"dataframe\">\n",
       "  <thead>\n",
       "    <tr style=\"text-align: right;\">\n",
       "      <th></th>\n",
       "      <th>No</th>\n",
       "      <th>Pelatih</th>\n",
       "      <th>Kandang Sendiri</th>\n",
       "      <th>Latihan</th>\n",
       "      <th>Stamina</th>\n",
       "      <th>Mental</th>\n",
       "      <th>Menang</th>\n",
       "    </tr>\n",
       "  </thead>\n",
       "  <tbody>\n",
       "    <tr>\n",
       "      <th>0</th>\n",
       "      <td>1</td>\n",
       "      <td>0</td>\n",
       "      <td>0</td>\n",
       "      <td>0.0</td>\n",
       "      <td>0</td>\n",
       "      <td>0</td>\n",
       "      <td>0</td>\n",
       "    </tr>\n",
       "    <tr>\n",
       "      <th>1</th>\n",
       "      <td>2</td>\n",
       "      <td>0</td>\n",
       "      <td>0</td>\n",
       "      <td>0.0</td>\n",
       "      <td>0</td>\n",
       "      <td>1</td>\n",
       "      <td>1</td>\n",
       "    </tr>\n",
       "    <tr>\n",
       "      <th>2</th>\n",
       "      <td>3</td>\n",
       "      <td>0</td>\n",
       "      <td>1</td>\n",
       "      <td>1.0</td>\n",
       "      <td>1</td>\n",
       "      <td>1</td>\n",
       "      <td>1</td>\n",
       "    </tr>\n",
       "    <tr>\n",
       "      <th>3</th>\n",
       "      <td>4</td>\n",
       "      <td>1</td>\n",
       "      <td>0</td>\n",
       "      <td>0.0</td>\n",
       "      <td>0</td>\n",
       "      <td>0</td>\n",
       "      <td>0</td>\n",
       "    </tr>\n",
       "    <tr>\n",
       "      <th>4</th>\n",
       "      <td>5</td>\n",
       "      <td>1</td>\n",
       "      <td>1</td>\n",
       "      <td>0.0</td>\n",
       "      <td>1</td>\n",
       "      <td>1</td>\n",
       "      <td>1</td>\n",
       "    </tr>\n",
       "  </tbody>\n",
       "</table>\n",
       "</div>"
      ],
      "text/plain": [
       "   No  Pelatih  Kandang Sendiri  Latihan  Stamina  Mental  Menang\n",
       "0   1        0                0      0.0        0       0       0\n",
       "1   2        0                0      0.0        0       1       1\n",
       "2   3        0                1      1.0        1       1       1\n",
       "3   4        1                0      0.0        0       0       0\n",
       "4   5        1                1      0.0        1       1       1"
      ]
     },
     "execution_count": 14,
     "metadata": {},
     "output_type": "execute_result"
    }
   ],
   "source": [
    "dataset.head()"
   ]
  },
  {
   "cell_type": "code",
   "execution_count": 15,
   "metadata": {
    "execution": {
     "iopub.execute_input": "2020-11-26T13:19:39.111949Z",
     "iopub.status.busy": "2020-11-26T13:19:39.110708Z",
     "iopub.status.idle": "2020-11-26T13:19:39.114167Z",
     "shell.execute_reply": "2020-11-26T13:19:39.114796Z"
    },
    "papermill": {
     "duration": 0.049512,
     "end_time": "2020-11-26T13:19:39.114951",
     "exception": false,
     "start_time": "2020-11-26T13:19:39.065439",
     "status": "completed"
    },
    "tags": []
   },
   "outputs": [],
   "source": [
    "dataset = dataset.fillna(0)\n",
    "latihan = dataset['Latihan'].astype(int)\n",
    "dataset['Latihan'] = latihan"
   ]
  },
  {
   "cell_type": "code",
   "execution_count": 16,
   "metadata": {
    "execution": {
     "iopub.execute_input": "2020-11-26T13:19:39.195916Z",
     "iopub.status.busy": "2020-11-26T13:19:39.194948Z",
     "iopub.status.idle": "2020-11-26T13:19:39.200327Z",
     "shell.execute_reply": "2020-11-26T13:19:39.199567Z"
    },
    "papermill": {
     "duration": 0.051343,
     "end_time": "2020-11-26T13:19:39.200451",
     "exception": false,
     "start_time": "2020-11-26T13:19:39.149108",
     "status": "completed"
    },
    "tags": []
   },
   "outputs": [
    {
     "data": {
      "text/html": [
       "<div>\n",
       "<style scoped>\n",
       "    .dataframe tbody tr th:only-of-type {\n",
       "        vertical-align: middle;\n",
       "    }\n",
       "\n",
       "    .dataframe tbody tr th {\n",
       "        vertical-align: top;\n",
       "    }\n",
       "\n",
       "    .dataframe thead th {\n",
       "        text-align: right;\n",
       "    }\n",
       "</style>\n",
       "<table border=\"1\" class=\"dataframe\">\n",
       "  <thead>\n",
       "    <tr style=\"text-align: right;\">\n",
       "      <th></th>\n",
       "      <th>No</th>\n",
       "      <th>Pelatih</th>\n",
       "      <th>Kandang Sendiri</th>\n",
       "      <th>Latihan</th>\n",
       "      <th>Stamina</th>\n",
       "      <th>Mental</th>\n",
       "      <th>Menang</th>\n",
       "    </tr>\n",
       "  </thead>\n",
       "  <tbody>\n",
       "    <tr>\n",
       "      <th>0</th>\n",
       "      <td>1</td>\n",
       "      <td>0</td>\n",
       "      <td>0</td>\n",
       "      <td>0</td>\n",
       "      <td>0</td>\n",
       "      <td>0</td>\n",
       "      <td>0</td>\n",
       "    </tr>\n",
       "    <tr>\n",
       "      <th>1</th>\n",
       "      <td>2</td>\n",
       "      <td>0</td>\n",
       "      <td>0</td>\n",
       "      <td>0</td>\n",
       "      <td>0</td>\n",
       "      <td>1</td>\n",
       "      <td>1</td>\n",
       "    </tr>\n",
       "    <tr>\n",
       "      <th>2</th>\n",
       "      <td>3</td>\n",
       "      <td>0</td>\n",
       "      <td>1</td>\n",
       "      <td>1</td>\n",
       "      <td>1</td>\n",
       "      <td>1</td>\n",
       "      <td>1</td>\n",
       "    </tr>\n",
       "    <tr>\n",
       "      <th>3</th>\n",
       "      <td>4</td>\n",
       "      <td>1</td>\n",
       "      <td>0</td>\n",
       "      <td>0</td>\n",
       "      <td>0</td>\n",
       "      <td>0</td>\n",
       "      <td>0</td>\n",
       "    </tr>\n",
       "    <tr>\n",
       "      <th>4</th>\n",
       "      <td>5</td>\n",
       "      <td>1</td>\n",
       "      <td>1</td>\n",
       "      <td>0</td>\n",
       "      <td>1</td>\n",
       "      <td>1</td>\n",
       "      <td>1</td>\n",
       "    </tr>\n",
       "  </tbody>\n",
       "</table>\n",
       "</div>"
      ],
      "text/plain": [
       "   No  Pelatih  Kandang Sendiri  Latihan  Stamina  Mental  Menang\n",
       "0   1        0                0        0        0       0       0\n",
       "1   2        0                0        0        0       1       1\n",
       "2   3        0                1        1        1       1       1\n",
       "3   4        1                0        0        0       0       0\n",
       "4   5        1                1        0        1       1       1"
      ]
     },
     "execution_count": 16,
     "metadata": {},
     "output_type": "execute_result"
    }
   ],
   "source": [
    "dataset.head()"
   ]
  },
  {
   "cell_type": "code",
   "execution_count": 17,
   "metadata": {
    "execution": {
     "iopub.execute_input": "2020-11-26T13:19:39.285533Z",
     "iopub.status.busy": "2020-11-26T13:19:39.284742Z",
     "iopub.status.idle": "2020-11-26T13:19:39.288800Z",
     "shell.execute_reply": "2020-11-26T13:19:39.287941Z"
    },
    "papermill": {
     "duration": 0.052331,
     "end_time": "2020-11-26T13:19:39.288936",
     "exception": false,
     "start_time": "2020-11-26T13:19:39.236605",
     "status": "completed"
    },
    "tags": []
   },
   "outputs": [
    {
     "name": "stdout",
     "output_type": "stream",
     "text": [
      "<class 'pandas.core.frame.DataFrame'>\n",
      "RangeIndex: 60 entries, 0 to 59\n",
      "Data columns (total 7 columns):\n",
      " #   Column           Non-Null Count  Dtype\n",
      "---  ------           --------------  -----\n",
      " 0   No               60 non-null     int64\n",
      " 1   Pelatih          60 non-null     int64\n",
      " 2   Kandang Sendiri  60 non-null     int64\n",
      " 3   Latihan          60 non-null     int64\n",
      " 4   Stamina          60 non-null     int64\n",
      " 5   Mental           60 non-null     int64\n",
      " 6   Menang           60 non-null     int64\n",
      "dtypes: int64(7)\n",
      "memory usage: 3.4 KB\n"
     ]
    }
   ],
   "source": [
    "dataset.info()"
   ]
  },
  {
   "cell_type": "code",
   "execution_count": 18,
   "metadata": {
    "execution": {
     "iopub.execute_input": "2020-11-26T13:19:39.368345Z",
     "iopub.status.busy": "2020-11-26T13:19:39.367154Z",
     "iopub.status.idle": "2020-11-26T13:19:39.370264Z",
     "shell.execute_reply": "2020-11-26T13:19:39.370881Z"
    },
    "papermill": {
     "duration": 0.045957,
     "end_time": "2020-11-26T13:19:39.371065",
     "exception": false,
     "start_time": "2020-11-26T13:19:39.325108",
     "status": "completed"
    },
    "tags": []
   },
   "outputs": [],
   "source": [
    "x = dataset.iloc[:, 1:6].values #kondisi\n",
    "y = dataset.iloc[:, -1].values #label"
   ]
  },
  {
   "cell_type": "code",
   "execution_count": 19,
   "metadata": {
    "execution": {
     "iopub.execute_input": "2020-11-26T13:19:39.450949Z",
     "iopub.status.busy": "2020-11-26T13:19:39.450110Z",
     "iopub.status.idle": "2020-11-26T13:19:40.731991Z",
     "shell.execute_reply": "2020-11-26T13:19:40.731308Z"
    },
    "papermill": {
     "duration": 1.32557,
     "end_time": "2020-11-26T13:19:40.732172",
     "exception": false,
     "start_time": "2020-11-26T13:19:39.406602",
     "status": "completed"
    },
    "tags": []
   },
   "outputs": [],
   "source": [
    "from sklearn.model_selection import train_test_split\n",
    "\n",
    "validation_size = 0.20\n",
    "num_trees = 100\n",
    "seed = 7\n",
    "x_train, x_test, y_train, y_test=train_test_split(x, y, test_size=validation_size, random_state=seed)"
   ]
  },
  {
   "cell_type": "code",
   "execution_count": 20,
   "metadata": {
    "execution": {
     "iopub.execute_input": "2020-11-26T13:19:40.820457Z",
     "iopub.status.busy": "2020-11-26T13:19:40.819589Z",
     "iopub.status.idle": "2020-11-26T13:19:40.849331Z",
     "shell.execute_reply": "2020-11-26T13:19:40.850154Z"
    },
    "papermill": {
     "duration": 0.082196,
     "end_time": "2020-11-26T13:19:40.850351",
     "exception": false,
     "start_time": "2020-11-26T13:19:40.768155",
     "status": "completed"
    },
    "tags": []
   },
   "outputs": [
    {
     "name": "stdout",
     "output_type": "stream",
     "text": [
      "Dataset Asli Menang       : 35 (58.33%)\n",
      "Dataset Asli Kalah     : 25 (41.67%)\n",
      "\n",
      "Dataset Training Menang   : 28 (58.33%)\n",
      "Dataset Training Kalah : 20 (41.67%)\n",
      "\n",
      "Dataset Test Menang      : 7 (58.33%)\n",
      "Dataset Test Kalah     : 5 (41.67%)\n"
     ]
    }
   ],
   "source": [
    "print(\"Dataset Asli Menang       : {0} ({1:0.2f}%)\".format(len(dataset.loc[dataset['Menang'] == 0]), (len(dataset.loc[dataset['Menang'] == 0])/len(dataset.index)) * 100.0))\n",
    "print(\"Dataset Asli Kalah     : {0} ({1:0.2f}%)\".format(len(dataset.loc[dataset['Menang'] == 1]), (len(dataset.loc[dataset['Menang'] == 1])/len(dataset.index)) * 100.0))\n",
    "print(\"\")\n",
    "print(\"Dataset Training Menang   : {0} ({1:0.2f}%)\".format(len(y_train[y_train[:] == 0]), (len(y_train[y_train[:] == 0])/len(y_train) * 100.0)))\n",
    "print(\"Dataset Training Kalah : {0} ({1:0.2f}%)\".format(len(y_train[y_train[:] == 1]), (len(y_train[y_train[:] == 1])/len(y_train) * 100.0)))\n",
    "print(\"\")\n",
    "print(\"Dataset Test Menang      : {0} ({1:0.2f}%)\".format(len(y_test[y_test[:] == 0]), (len(y_test[y_test[:] == 0])/len(y_test) * 100.0)))\n",
    "print(\"Dataset Test Kalah     : {0} ({1:0.2f}%)\".format(len(y_test[y_test[:] == 1]), (len(y_test[y_test[:] == 1])/len(y_test) * 100.0)))"
   ]
  },
  {
   "cell_type": "code",
   "execution_count": 21,
   "metadata": {
    "execution": {
     "iopub.execute_input": "2020-11-26T13:19:40.939419Z",
     "iopub.status.busy": "2020-11-26T13:19:40.933415Z",
     "iopub.status.idle": "2020-11-26T13:19:41.793618Z",
     "shell.execute_reply": "2020-11-26T13:19:41.794339Z"
    },
    "papermill": {
     "duration": 0.906564,
     "end_time": "2020-11-26T13:19:41.794496",
     "exception": false,
     "start_time": "2020-11-26T13:19:40.887932",
     "status": "completed"
    },
    "tags": []
   },
   "outputs": [
    {
     "name": "stderr",
     "output_type": "stream",
     "text": [
      "/opt/conda/lib/python3.7/site-packages/sklearn/model_selection/_split.py:297: FutureWarning: Setting a random_state has no effect since shuffle is False. This will raise an error in 0.24. You should leave random_state to its default (None), or set shuffle=True.\n",
      "  FutureWarning\n",
      "/opt/conda/lib/python3.7/site-packages/sklearn/model_selection/_split.py:297: FutureWarning: Setting a random_state has no effect since shuffle is False. This will raise an error in 0.24. You should leave random_state to its default (None), or set shuffle=True.\n",
      "  FutureWarning\n",
      "/opt/conda/lib/python3.7/site-packages/sklearn/model_selection/_split.py:297: FutureWarning: Setting a random_state has no effect since shuffle is False. This will raise an error in 0.24. You should leave random_state to its default (None), or set shuffle=True.\n",
      "  FutureWarning\n",
      "/opt/conda/lib/python3.7/site-packages/sklearn/model_selection/_split.py:297: FutureWarning: Setting a random_state has no effect since shuffle is False. This will raise an error in 0.24. You should leave random_state to its default (None), or set shuffle=True.\n",
      "  FutureWarning\n",
      "/opt/conda/lib/python3.7/site-packages/sklearn/model_selection/_split.py:297: FutureWarning: Setting a random_state has no effect since shuffle is False. This will raise an error in 0.24. You should leave random_state to its default (None), or set shuffle=True.\n",
      "  FutureWarning\n",
      "/opt/conda/lib/python3.7/site-packages/sklearn/model_selection/_split.py:297: FutureWarning: Setting a random_state has no effect since shuffle is False. This will raise an error in 0.24. You should leave random_state to its default (None), or set shuffle=True.\n",
      "  FutureWarning\n"
     ]
    },
    {
     "name": "stdout",
     "output_type": "stream",
     "text": [
      "LR: 0.854167 (0.145833)\n",
      "LDA: 0.645833 (0.062500)\n",
      "KNN: 0.666667 (0.041667)\n",
      "CART: 0.791667 (0.083333)\n",
      "NB: 0.937500 (0.062500)\n",
      "RF: 0.791667 (0.083333)\n"
     ]
    }
   ],
   "source": [
    "from sklearn.model_selection import KFold\n",
    "from sklearn.model_selection import cross_val_score\n",
    "from sklearn.metrics import classification_report\n",
    "from sklearn.metrics import confusion_matrix\n",
    "from sklearn.metrics import accuracy_score\n",
    "from sklearn.linear_model import LogisticRegression\n",
    "from sklearn.tree import DecisionTreeClassifier\n",
    "from sklearn.neighbors import KNeighborsClassifier\n",
    "from sklearn.ensemble import RandomForestClassifier\n",
    "from sklearn.discriminant_analysis import LinearDiscriminantAnalysis\n",
    "from sklearn.naive_bayes import GaussianNB\n",
    "\n",
    "\n",
    "#Check Algorithms\n",
    "models = []\n",
    "models.append(( 'LR' , LogisticRegression()))\n",
    "models.append(( 'LDA' , LinearDiscriminantAnalysis()))\n",
    "models.append(( 'KNN' , KNeighborsClassifier()))\n",
    "models.append(( 'CART' , DecisionTreeClassifier()))\n",
    "models.append(( 'NB' , GaussianNB()))\n",
    "models.append(('RF', RandomForestClassifier(n_estimators=num_trees, random_state=seed)))\n",
    "# evaluate each model\n",
    "results = []\n",
    "names = []\n",
    "for name, model in models:\n",
    "  kfold = KFold(n_splits=2, random_state=seed)\n",
    "  cv_results = cross_val_score(model, x_train, y_train, cv=kfold, scoring= 'accuracy' )\n",
    "  results.append(cv_results)\n",
    "  names.append(name)\n",
    "  msg = \"%s: %f (%f)\" % (name, cv_results.mean(), cv_results.std())\n",
    "  print(msg)"
   ]
  },
  {
   "cell_type": "markdown",
   "metadata": {
    "papermill": {
     "duration": 0.039205,
     "end_time": "2020-11-26T13:19:41.873183",
     "exception": false,
     "start_time": "2020-11-26T13:19:41.833978",
     "status": "completed"
    },
    "tags": []
   },
   "source": [
    "**Algoritma GaussianNB paling bagus : 93++%**"
   ]
  },
  {
   "cell_type": "code",
   "execution_count": 22,
   "metadata": {
    "execution": {
     "iopub.execute_input": "2020-11-26T13:19:41.961220Z",
     "iopub.status.busy": "2020-11-26T13:19:41.959322Z",
     "iopub.status.idle": "2020-11-26T13:19:41.974651Z",
     "shell.execute_reply": "2020-11-26T13:19:41.975405Z"
    },
    "papermill": {
     "duration": 0.064174,
     "end_time": "2020-11-26T13:19:41.975556",
     "exception": false,
     "start_time": "2020-11-26T13:19:41.911382",
     "status": "completed"
    },
    "tags": []
   },
   "outputs": [
    {
     "name": "stdout",
     "output_type": "stream",
     "text": [
      "1.0\n",
      "[[7 0]\n",
      " [0 5]]\n",
      "              precision    recall  f1-score   support\n",
      "\n",
      "           0       1.00      1.00      1.00         7\n",
      "           1       1.00      1.00      1.00         5\n",
      "\n",
      "    accuracy                           1.00        12\n",
      "   macro avg       1.00      1.00      1.00        12\n",
      "weighted avg       1.00      1.00      1.00        12\n",
      "\n"
     ]
    }
   ],
   "source": [
    "nb = GaussianNB()\n",
    "nb.fit(x_train, y_train)\n",
    "predictions = nb.predict(x_test)\n",
    "print(accuracy_score(y_test, predictions))\n",
    "print(confusion_matrix(y_test, predictions))\n",
    "print(classification_report(y_test, predictions))"
   ]
  },
  {
   "cell_type": "markdown",
   "metadata": {
    "papermill": {
     "duration": 0.040709,
     "end_time": "2020-11-26T13:19:42.054864",
     "exception": false,
     "start_time": "2020-11-26T13:19:42.014155",
     "status": "completed"
    },
    "tags": []
   },
   "source": [
    "dari data test yang di uji, semua nya di prediksi benar dan accuracy nya 100% . GG, mungkin dikarenakan faktor data nya yang bisa dibilang terlalu sedikit"
   ]
  },
  {
   "cell_type": "code",
   "execution_count": 23,
   "metadata": {
    "execution": {
     "iopub.execute_input": "2020-11-26T13:19:42.144966Z",
     "iopub.status.busy": "2020-11-26T13:19:42.142056Z",
     "iopub.status.idle": "2020-11-26T13:19:42.158341Z",
     "shell.execute_reply": "2020-11-26T13:19:42.157492Z"
    },
    "papermill": {
     "duration": 0.064886,
     "end_time": "2020-11-26T13:19:42.158474",
     "exception": false,
     "start_time": "2020-11-26T13:19:42.093588",
     "status": "completed"
    },
    "tags": []
   },
   "outputs": [
    {
     "name": "stdout",
     "output_type": "stream",
     "text": [
      "0.9375\n",
      "[[28  0]\n",
      " [ 3 17]]\n",
      "              precision    recall  f1-score   support\n",
      "\n",
      "           0       0.90      1.00      0.95        28\n",
      "           1       1.00      0.85      0.92        20\n",
      "\n",
      "    accuracy                           0.94        48\n",
      "   macro avg       0.95      0.93      0.93        48\n",
      "weighted avg       0.94      0.94      0.94        48\n",
      "\n"
     ]
    }
   ],
   "source": [
    "nb = GaussianNB()\n",
    "nb.fit(x_train, y_train)\n",
    "predictions = nb.predict(x_train)\n",
    "print(accuracy_score(y_train, predictions))\n",
    "print(confusion_matrix(y_train, predictions))\n",
    "print(classification_report(y_train, predictions))"
   ]
  },
  {
   "cell_type": "markdown",
   "metadata": {
    "papermill": {
     "duration": 0.041011,
     "end_time": "2020-11-26T13:19:42.238784",
     "exception": false,
     "start_time": "2020-11-26T13:19:42.197773",
     "status": "completed"
    },
    "tags": []
   },
   "source": [
    "# Kita memberikan data kita kepada pak Tatang"
   ]
  },
  {
   "cell_type": "markdown",
   "metadata": {
    "papermill": {
     "duration": 0.038893,
     "end_time": "2020-11-26T13:19:42.318201",
     "exception": false,
     "start_time": "2020-11-26T13:19:42.279308",
     "status": "completed"
    },
    "tags": []
   },
   "source": [
    "Misal pak Tatang, memilih pelatih dan tipe pemain sebagai berikut:\n",
    "* pelatih : Menekan\n",
    "* Match : Kandang sendiri\n",
    "* Latihan : rutin\n",
    "* Stamina : Kuat karena terbiasa latihan berat\n",
    "* Mental : grogi , karena dapat tekanan dari pelatih\n",
    "\n",
    "Kita prediksi hasil akhirnya"
   ]
  },
  {
   "cell_type": "code",
   "execution_count": 24,
   "metadata": {
    "execution": {
     "iopub.execute_input": "2020-11-26T13:19:42.405039Z",
     "iopub.status.busy": "2020-11-26T13:19:42.403941Z",
     "iopub.status.idle": "2020-11-26T13:19:42.407565Z",
     "shell.execute_reply": "2020-11-26T13:19:42.408176Z"
    },
    "papermill": {
     "duration": 0.050786,
     "end_time": "2020-11-26T13:19:42.408345",
     "exception": false,
     "start_time": "2020-11-26T13:19:42.357559",
     "status": "completed"
    },
    "tags": []
   },
   "outputs": [
    {
     "name": "stdout",
     "output_type": "stream",
     "text": [
      "Prediksi : Kalah\n"
     ]
    }
   ],
   "source": [
    "prediction_nb=nb.predict([[1,0,0,0,1]])\n",
    "if prediction_nb[0] == 0:\n",
    "    pred = \"Menang\"\n",
    "else:\n",
    "    pred = \"Kalah\"\n",
    "print('Prediksi :',pred)"
   ]
  },
  {
   "cell_type": "markdown",
   "metadata": {
    "papermill": {
     "duration": 0.039287,
     "end_time": "2020-11-26T13:19:42.487758",
     "exception": false,
     "start_time": "2020-11-26T13:19:42.448471",
     "status": "completed"
    },
    "tags": []
   },
   "source": [
    "Sayang sekali, Club pak Tatang kalah. maybe next time pak Tatang."
   ]
  },
  {
   "cell_type": "markdown",
   "metadata": {
    "papermill": {
     "duration": 0.03961,
     "end_time": "2020-11-26T13:19:42.567737",
     "exception": false,
     "start_time": "2020-11-26T13:19:42.528127",
     "status": "completed"
    },
    "tags": []
   },
   "source": [
    "Dikarenakan laga kemaren, pak Tatang mencoba pelatih yang lebih friendly kepada pemain. dengan tipe berikut:\n",
    "\n",
    "* pelatih : Pengertian\n",
    "* Match : Away \n",
    "* Latihan : Rutin, karena segan dengan pelatih\n",
    "* Stamina : kuat karena sering latihan\n",
    "* Mental : Pede , karena mendapatkan support dari pelatih \n",
    "\n",
    "Kita prediksi hasil akhirnya"
   ]
  },
  {
   "cell_type": "code",
   "execution_count": 25,
   "metadata": {
    "execution": {
     "iopub.execute_input": "2020-11-26T13:19:42.657770Z",
     "iopub.status.busy": "2020-11-26T13:19:42.656755Z",
     "iopub.status.idle": "2020-11-26T13:19:42.661265Z",
     "shell.execute_reply": "2020-11-26T13:19:42.660421Z"
    },
    "papermill": {
     "duration": 0.053338,
     "end_time": "2020-11-26T13:19:42.661423",
     "exception": false,
     "start_time": "2020-11-26T13:19:42.608085",
     "status": "completed"
    },
    "tags": []
   },
   "outputs": [
    {
     "name": "stdout",
     "output_type": "stream",
     "text": [
      "Prediksi : Menang\n"
     ]
    }
   ],
   "source": [
    "prediction_nb=nb.predict([[0,1,0,0,0]])\n",
    "if prediction_nb[0] == 0:\n",
    "    pred = \"Menang\"\n",
    "else:\n",
    "    pred = \"Kalah\"\n",
    "print('Prediksi :',pred)"
   ]
  },
  {
   "cell_type": "markdown",
   "metadata": {
    "papermill": {
     "duration": 0.040619,
     "end_time": "2020-11-26T13:19:42.744078",
     "exception": false,
     "start_time": "2020-11-26T13:19:42.703459",
     "status": "completed"
    },
    "tags": []
   },
   "source": [
    "walaupun pada match ke-2 bermain tandang atau away, tidak mempengaruhi mental pemain menjadi lemah,malah menjadi kiat dikarenakan mendapatkan support system dari pelatih sekarang,yang diamana berpengaruh kepada permainan dari tatang fc.\n",
    "akhirnya tatang Fc memenangkan pertandingan pertamanya dan pak tatang senang atas kerja yang kita lakukan."
   ]
  },
  {
   "cell_type": "code",
   "execution_count": null,
   "metadata": {
    "papermill": {
     "duration": 0.039739,
     "end_time": "2020-11-26T13:19:42.824869",
     "exception": false,
     "start_time": "2020-11-26T13:19:42.785130",
     "status": "completed"
    },
    "tags": []
   },
   "outputs": [],
   "source": []
  }
 ],
 "metadata": {
  "kernelspec": {
   "display_name": "Python 3",
   "language": "python",
   "name": "python3"
  },
  "language_info": {
   "codemirror_mode": {
    "name": "ipython",
    "version": 3
   },
   "file_extension": ".py",
   "mimetype": "text/x-python",
   "name": "python",
   "nbconvert_exporter": "python",
   "pygments_lexer": "ipython3",
   "version": "3.7.6"
  },
  "papermill": {
   "duration": 10.853998,
   "end_time": "2020-11-26T13:19:42.974486",
   "environment_variables": {},
   "exception": null,
   "input_path": "__notebook__.ipynb",
   "output_path": "__notebook__.ipynb",
   "parameters": {},
   "start_time": "2020-11-26T13:19:32.120488",
   "version": "2.1.0"
  }
 },
 "nbformat": 4,
 "nbformat_minor": 4
}
